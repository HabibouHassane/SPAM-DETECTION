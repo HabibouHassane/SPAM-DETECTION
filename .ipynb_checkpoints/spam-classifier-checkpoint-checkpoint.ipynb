{
 "cells": [
  {
   "cell_type": "code",
   "execution_count": null,
   "id": "0d19921b",
   "metadata": {
    "papermill": {
     "duration": 0.010912,
     "end_time": "2024-01-18T17:25:41.162502",
     "exception": false,
     "start_time": "2024-01-18T17:25:41.151590",
     "status": "completed"
    },
    "tags": []
   },
   "outputs": [],
   "source": []
  },
  {
   "cell_type": "markdown",
   "id": "14ee1091",
   "metadata": {
    "papermill": {
     "duration": 0.011526,
     "end_time": "2024-01-18T17:25:41.184542",
     "exception": false,
     "start_time": "2024-01-18T17:25:41.173016",
     "status": "completed"
    },
    "tags": []
   },
   "source": [
    "# IMPORTING THE LIBRARIES"
   ]
  },
  {
   "cell_type": "code",
   "execution_count": 1,
   "id": "6372927a",
   "metadata": {
    "execution": {
     "iopub.execute_input": "2024-01-18T17:25:41.207788Z",
     "iopub.status.busy": "2024-01-18T17:25:41.207261Z",
     "iopub.status.idle": "2024-01-18T17:25:56.797090Z",
     "shell.execute_reply": "2024-01-18T17:25:56.795855Z"
    },
    "papermill": {
     "duration": 15.604854,
     "end_time": "2024-01-18T17:25:56.799736",
     "exception": false,
     "start_time": "2024-01-18T17:25:41.194882",
     "status": "completed"
    },
    "tags": []
   },
   "outputs": [],
   "source": [
    "import pandas as pd \n",
    "import numpy as np\n",
    "import tensorflow as tf\n",
    "from tensorflow import keras "
   ]
  },
  {
   "cell_type": "markdown",
   "id": "9ca9603d",
   "metadata": {
    "papermill": {
     "duration": 0.010362,
     "end_time": "2024-01-18T17:25:56.820595",
     "exception": false,
     "start_time": "2024-01-18T17:25:56.810233",
     "status": "completed"
    },
    "tags": []
   },
   "source": [
    "# READING THE CSV FILE"
   ]
  },
  {
   "cell_type": "code",
   "execution_count": 2,
   "id": "2d63dbd9",
   "metadata": {
    "execution": {
     "iopub.execute_input": "2024-01-18T17:25:56.843731Z",
     "iopub.status.busy": "2024-01-18T17:25:56.842870Z",
     "iopub.status.idle": "2024-01-18T17:25:57.517072Z",
     "shell.execute_reply": "2024-01-18T17:25:57.515695Z"
    },
    "papermill": {
     "duration": 0.688674,
     "end_time": "2024-01-18T17:25:57.519589",
     "exception": false,
     "start_time": "2024-01-18T17:25:56.830915",
     "status": "completed"
    },
    "tags": []
   },
   "outputs": [
    {
     "data": {
      "text/html": [
       "<div>\n",
       "<style scoped>\n",
       "    .dataframe tbody tr th:only-of-type {\n",
       "        vertical-align: middle;\n",
       "    }\n",
       "\n",
       "    .dataframe tbody tr th {\n",
       "        vertical-align: top;\n",
       "    }\n",
       "\n",
       "    .dataframe thead th {\n",
       "        text-align: right;\n",
       "    }\n",
       "</style>\n",
       "<table border=\"1\" class=\"dataframe\">\n",
       "  <thead>\n",
       "    <tr style=\"text-align: right;\">\n",
       "      <th></th>\n",
       "      <th>CATEGORY</th>\n",
       "      <th>MESSAGE</th>\n",
       "      <th>FILE_NAME</th>\n",
       "    </tr>\n",
       "  </thead>\n",
       "  <tbody>\n",
       "    <tr>\n",
       "      <th>0</th>\n",
       "      <td>1</td>\n",
       "      <td>Dear Homeowner,\\n\\n \\n\\nInterest Rates are at ...</td>\n",
       "      <td>00249.5f45607c1bffe89f60ba1ec9f878039a</td>\n",
       "    </tr>\n",
       "    <tr>\n",
       "      <th>1</th>\n",
       "      <td>1</td>\n",
       "      <td>ATTENTION: This is a MUST for ALL Computer Use...</td>\n",
       "      <td>00373.ebe8670ac56b04125c25100a36ab0510</td>\n",
       "    </tr>\n",
       "    <tr>\n",
       "      <th>2</th>\n",
       "      <td>1</td>\n",
       "      <td>This is a multi-part message in MIME format.\\n...</td>\n",
       "      <td>00214.1367039e50dc6b7adb0f2aa8aba83216</td>\n",
       "    </tr>\n",
       "    <tr>\n",
       "      <th>3</th>\n",
       "      <td>1</td>\n",
       "      <td>IMPORTANT INFORMATION:\\n\\n\\n\\nThe new domain n...</td>\n",
       "      <td>00210.050ffd105bd4e006771ee63cabc59978</td>\n",
       "    </tr>\n",
       "    <tr>\n",
       "      <th>4</th>\n",
       "      <td>1</td>\n",
       "      <td>This is the bottom line.  If you can GIVE AWAY...</td>\n",
       "      <td>00033.9babb58d9298daa2963d4f514193d7d6</td>\n",
       "    </tr>\n",
       "  </tbody>\n",
       "</table>\n",
       "</div>"
      ],
      "text/plain": [
       "   CATEGORY                                            MESSAGE  \\\n",
       "0         1  Dear Homeowner,\\n\\n \\n\\nInterest Rates are at ...   \n",
       "1         1  ATTENTION: This is a MUST for ALL Computer Use...   \n",
       "2         1  This is a multi-part message in MIME format.\\n...   \n",
       "3         1  IMPORTANT INFORMATION:\\n\\n\\n\\nThe new domain n...   \n",
       "4         1  This is the bottom line.  If you can GIVE AWAY...   \n",
       "\n",
       "                                FILE_NAME  \n",
       "0  00249.5f45607c1bffe89f60ba1ec9f878039a  \n",
       "1  00373.ebe8670ac56b04125c25100a36ab0510  \n",
       "2  00214.1367039e50dc6b7adb0f2aa8aba83216  \n",
       "3  00210.050ffd105bd4e006771ee63cabc59978  \n",
       "4  00033.9babb58d9298daa2963d4f514193d7d6  "
      ]
     },
     "execution_count": 2,
     "metadata": {},
     "output_type": "execute_result"
    }
   ],
   "source": [
    "df = pd.read_csv(\"Spam Email raw text for NLP.csv\")\n",
    "df.head()"
   ]
  },
  {
   "cell_type": "markdown",
   "id": "2a4de6b9",
   "metadata": {
    "papermill": {
     "duration": 0.013963,
     "end_time": "2024-01-18T17:25:57.546716",
     "exception": false,
     "start_time": "2024-01-18T17:25:57.532753",
     "status": "completed"
    },
    "tags": []
   },
   "source": [
    "**Dropping the unwanted columns**"
   ]
  },
  {
   "cell_type": "code",
   "execution_count": 3,
   "id": "43752b9f",
   "metadata": {
    "execution": {
     "iopub.execute_input": "2024-01-18T17:25:57.579273Z",
     "iopub.status.busy": "2024-01-18T17:25:57.578661Z",
     "iopub.status.idle": "2024-01-18T17:25:57.593997Z",
     "shell.execute_reply": "2024-01-18T17:25:57.592481Z"
    },
    "papermill": {
     "duration": 0.035135,
     "end_time": "2024-01-18T17:25:57.597148",
     "exception": false,
     "start_time": "2024-01-18T17:25:57.562013",
     "status": "completed"
    },
    "tags": []
   },
   "outputs": [],
   "source": [
    "df.drop(['FILE_NAME'],axis='columns',inplace=True)"
   ]
  },
  {
   "cell_type": "code",
   "execution_count": 5,
   "id": "7cd3b708",
   "metadata": {
    "execution": {
     "iopub.execute_input": "2024-01-18T17:25:57.622283Z",
     "iopub.status.busy": "2024-01-18T17:25:57.621114Z",
     "iopub.status.idle": "2024-01-18T17:25:57.633135Z",
     "shell.execute_reply": "2024-01-18T17:25:57.631458Z"
    },
    "papermill": {
     "duration": 0.026725,
     "end_time": "2024-01-18T17:25:57.635736",
     "exception": false,
     "start_time": "2024-01-18T17:25:57.609011",
     "status": "completed"
    },
    "tags": []
   },
   "outputs": [
    {
     "data": {
      "text/html": [
       "<div>\n",
       "<style scoped>\n",
       "    .dataframe tbody tr th:only-of-type {\n",
       "        vertical-align: middle;\n",
       "    }\n",
       "\n",
       "    .dataframe tbody tr th {\n",
       "        vertical-align: top;\n",
       "    }\n",
       "\n",
       "    .dataframe thead th {\n",
       "        text-align: right;\n",
       "    }\n",
       "</style>\n",
       "<table border=\"1\" class=\"dataframe\">\n",
       "  <thead>\n",
       "    <tr style=\"text-align: right;\">\n",
       "      <th></th>\n",
       "      <th>CATEGORY</th>\n",
       "      <th>MESSAGE</th>\n",
       "    </tr>\n",
       "  </thead>\n",
       "  <tbody>\n",
       "    <tr>\n",
       "      <th>0</th>\n",
       "      <td>1</td>\n",
       "      <td>Dear Homeowner,\\n\\n \\n\\nInterest Rates are at ...</td>\n",
       "    </tr>\n",
       "    <tr>\n",
       "      <th>1</th>\n",
       "      <td>1</td>\n",
       "      <td>ATTENTION: This is a MUST for ALL Computer Use...</td>\n",
       "    </tr>\n",
       "    <tr>\n",
       "      <th>2</th>\n",
       "      <td>1</td>\n",
       "      <td>This is a multi-part message in MIME format.\\n...</td>\n",
       "    </tr>\n",
       "    <tr>\n",
       "      <th>3</th>\n",
       "      <td>1</td>\n",
       "      <td>IMPORTANT INFORMATION:\\n\\n\\n\\nThe new domain n...</td>\n",
       "    </tr>\n",
       "    <tr>\n",
       "      <th>4</th>\n",
       "      <td>1</td>\n",
       "      <td>This is the bottom line.  If you can GIVE AWAY...</td>\n",
       "    </tr>\n",
       "    <tr>\n",
       "      <th>5</th>\n",
       "      <td>1</td>\n",
       "      <td>------=_NextPart_000_00B8_51E06B6A.C8586B31\\n\\...</td>\n",
       "    </tr>\n",
       "    <tr>\n",
       "      <th>6</th>\n",
       "      <td>1</td>\n",
       "      <td>&lt;STYLE type=\"text/css\"&gt;\\n\\n&lt;!--\\n\\nP{\\n\\n  fon...</td>\n",
       "    </tr>\n",
       "    <tr>\n",
       "      <th>7</th>\n",
       "      <td>1</td>\n",
       "      <td>&lt;HR&gt;\\n\\n&lt;html&gt;\\n\\n&lt;head&gt;\\n\\n  &lt;title&gt;Secured I...</td>\n",
       "    </tr>\n",
       "    <tr>\n",
       "      <th>8</th>\n",
       "      <td>1</td>\n",
       "      <td>&lt;table width=\"600\" border=\"20\" align=\"center\" ...</td>\n",
       "    </tr>\n",
       "    <tr>\n",
       "      <th>9</th>\n",
       "      <td>1</td>\n",
       "      <td>&lt;html&gt;\\n\\n\\n\\n&lt;head&gt;\\n\\n&lt;meta http-equiv=\"Cont...</td>\n",
       "    </tr>\n",
       "  </tbody>\n",
       "</table>\n",
       "</div>"
      ],
      "text/plain": [
       "   CATEGORY                                            MESSAGE\n",
       "0         1  Dear Homeowner,\\n\\n \\n\\nInterest Rates are at ...\n",
       "1         1  ATTENTION: This is a MUST for ALL Computer Use...\n",
       "2         1  This is a multi-part message in MIME format.\\n...\n",
       "3         1  IMPORTANT INFORMATION:\\n\\n\\n\\nThe new domain n...\n",
       "4         1  This is the bottom line.  If you can GIVE AWAY...\n",
       "5         1  ------=_NextPart_000_00B8_51E06B6A.C8586B31\\n\\...\n",
       "6         1  <STYLE type=\"text/css\">\\n\\n<!--\\n\\nP{\\n\\n  fon...\n",
       "7         1  <HR>\\n\\n<html>\\n\\n<head>\\n\\n  <title>Secured I...\n",
       "8         1  <table width=\"600\" border=\"20\" align=\"center\" ...\n",
       "9         1  <html>\\n\\n\\n\\n<head>\\n\\n<meta http-equiv=\"Cont..."
      ]
     },
     "execution_count": 5,
     "metadata": {},
     "output_type": "execute_result"
    }
   ],
   "source": [
    "df.head(10)"
   ]
  },
  {
   "cell_type": "markdown",
   "id": "2861e5b7",
   "metadata": {
    "papermill": {
     "duration": 0.010834,
     "end_time": "2024-01-18T17:25:57.658026",
     "exception": false,
     "start_time": "2024-01-18T17:25:57.647192",
     "status": "completed"
    },
    "tags": []
   },
   "source": [
    "**Checking for imbalanced dataset**"
   ]
  },
  {
   "cell_type": "code",
   "execution_count": 6,
   "id": "dfbd827e",
   "metadata": {
    "execution": {
     "iopub.execute_input": "2024-01-18T17:25:57.682918Z",
     "iopub.status.busy": "2024-01-18T17:25:57.681591Z",
     "iopub.status.idle": "2024-01-18T17:25:57.697459Z",
     "shell.execute_reply": "2024-01-18T17:25:57.696237Z"
    },
    "papermill": {
     "duration": 0.030972,
     "end_time": "2024-01-18T17:25:57.700101",
     "exception": false,
     "start_time": "2024-01-18T17:25:57.669129",
     "status": "completed"
    },
    "tags": []
   },
   "outputs": [
    {
     "data": {
      "text/plain": [
       "0    3900\n",
       "1    1896\n",
       "Name: CATEGORY, dtype: int64"
      ]
     },
     "execution_count": 6,
     "metadata": {},
     "output_type": "execute_result"
    }
   ],
   "source": [
    "df.CATEGORY.value_counts()"
   ]
  },
  {
   "cell_type": "code",
   "execution_count": 7,
   "id": "a961a589",
   "metadata": {},
   "outputs": [
    {
     "data": {
      "text/plain": [
       "0"
      ]
     },
     "execution_count": 7,
     "metadata": {},
     "output_type": "execute_result"
    }
   ],
   "source": [
    "df.CATEGORY.isnull().sum()"
   ]
  },
  {
   "cell_type": "markdown",
   "id": "f22034f0",
   "metadata": {
    "papermill": {
     "duration": 0.016028,
     "end_time": "2024-01-18T17:25:57.728381",
     "exception": false,
     "start_time": "2024-01-18T17:25:57.712353",
     "status": "completed"
    },
    "tags": []
   },
   "source": [
    "# DATA CLEANING"
   ]
  },
  {
   "cell_type": "code",
   "execution_count": 8,
   "id": "3978667f",
   "metadata": {
    "execution": {
     "iopub.execute_input": "2024-01-18T17:25:57.755442Z",
     "iopub.status.busy": "2024-01-18T17:25:57.754360Z",
     "iopub.status.idle": "2024-01-18T17:25:57.763167Z",
     "shell.execute_reply": "2024-01-18T17:25:57.761934Z"
    },
    "papermill": {
     "duration": 0.024666,
     "end_time": "2024-01-18T17:25:57.765844",
     "exception": false,
     "start_time": "2024-01-18T17:25:57.741178",
     "status": "completed"
    },
    "tags": []
   },
   "outputs": [],
   "source": [
    "import re\n",
    "def clean_msg(message):\n",
    "    message = re.sub(r'http\\S+|www.\\S+' , '' ,message)  #for removing URLs\n",
    "    \n",
    "    message = re.sub(r'S+\\@\\S+\\.\\S+' , '' ,message)     #for removing mail-Id\n",
    "    \n",
    "    message = re.sub(r'<[^>]*>' , '' , message)         #for removing HTML tags\n",
    "    \n",
    "    message = re.sub(r'[^A-Za-z0-9 ]+', ' ', message)   #for removing special characters\n",
    "    \n",
    "    message = re.sub(r' +', ' ' , message)              #for removing extra spaces        \n",
    "    \n",
    "    message = message.lower()\n",
    "    \n",
    "    return message"
   ]
  },
  {
   "cell_type": "code",
   "execution_count": 9,
   "id": "0059ee16",
   "metadata": {
    "execution": {
     "iopub.execute_input": "2024-01-18T17:25:57.790979Z",
     "iopub.status.busy": "2024-01-18T17:25:57.789939Z",
     "iopub.status.idle": "2024-01-18T17:26:00.089435Z",
     "shell.execute_reply": "2024-01-18T17:26:00.088061Z"
    },
    "papermill": {
     "duration": 2.315528,
     "end_time": "2024-01-18T17:26:00.092591",
     "exception": false,
     "start_time": "2024-01-18T17:25:57.777063",
     "status": "completed"
    },
    "tags": []
   },
   "outputs": [],
   "source": [
    "df.MESSAGE = df.MESSAGE.apply(clean_msg)"
   ]
  },
  {
   "cell_type": "code",
   "execution_count": 10,
   "id": "2e9324eb",
   "metadata": {},
   "outputs": [
    {
     "data": {
      "text/html": [
       "<div>\n",
       "<style scoped>\n",
       "    .dataframe tbody tr th:only-of-type {\n",
       "        vertical-align: middle;\n",
       "    }\n",
       "\n",
       "    .dataframe tbody tr th {\n",
       "        vertical-align: top;\n",
       "    }\n",
       "\n",
       "    .dataframe thead th {\n",
       "        text-align: right;\n",
       "    }\n",
       "</style>\n",
       "<table border=\"1\" class=\"dataframe\">\n",
       "  <thead>\n",
       "    <tr style=\"text-align: right;\">\n",
       "      <th></th>\n",
       "      <th>CATEGORY</th>\n",
       "      <th>MESSAGE</th>\n",
       "    </tr>\n",
       "  </thead>\n",
       "  <tbody>\n",
       "    <tr>\n",
       "      <th>0</th>\n",
       "      <td>1</td>\n",
       "      <td>dear homeowner interest rates are at their low...</td>\n",
       "    </tr>\n",
       "    <tr>\n",
       "      <th>1</th>\n",
       "      <td>1</td>\n",
       "      <td>attention this is a must for all computer user...</td>\n",
       "    </tr>\n",
       "    <tr>\n",
       "      <th>2</th>\n",
       "      <td>1</td>\n",
       "      <td>this is a multi part message in mime format ne...</td>\n",
       "    </tr>\n",
       "    <tr>\n",
       "      <th>3</th>\n",
       "      <td>1</td>\n",
       "      <td>important information the new domain names are...</td>\n",
       "    </tr>\n",
       "    <tr>\n",
       "      <th>4</th>\n",
       "      <td>1</td>\n",
       "      <td>this is the bottom line if you can give away c...</td>\n",
       "    </tr>\n",
       "    <tr>\n",
       "      <th>5</th>\n",
       "      <td>1</td>\n",
       "      <td>nextpart 000 00b8 51e06b6a c8586b31 content t...</td>\n",
       "    </tr>\n",
       "    <tr>\n",
       "      <th>6</th>\n",
       "      <td>1</td>\n",
       "      <td>hello this is chinese traditional 21 o nbsp n...</td>\n",
       "    </tr>\n",
       "    <tr>\n",
       "      <th>7</th>\n",
       "      <td>1</td>\n",
       "      <td>secured investements wealth without risk disc...</td>\n",
       "    </tr>\n",
       "    <tr>\n",
       "      <th>8</th>\n",
       "      <td>1</td>\n",
       "      <td>click here now simply amateur just like the g...</td>\n",
       "    </tr>\n",
       "    <tr>\n",
       "      <th>9</th>\n",
       "      <td>1</td>\n",
       "      <td>answer us nbsp unlist information this messag...</td>\n",
       "    </tr>\n",
       "  </tbody>\n",
       "</table>\n",
       "</div>"
      ],
      "text/plain": [
       "   CATEGORY                                            MESSAGE\n",
       "0         1  dear homeowner interest rates are at their low...\n",
       "1         1  attention this is a must for all computer user...\n",
       "2         1  this is a multi part message in mime format ne...\n",
       "3         1  important information the new domain names are...\n",
       "4         1  this is the bottom line if you can give away c...\n",
       "5         1   nextpart 000 00b8 51e06b6a c8586b31 content t...\n",
       "6         1   hello this is chinese traditional 21 o nbsp n...\n",
       "7         1   secured investements wealth without risk disc...\n",
       "8         1   click here now simply amateur just like the g...\n",
       "9         1   answer us nbsp unlist information this messag..."
      ]
     },
     "execution_count": 10,
     "metadata": {},
     "output_type": "execute_result"
    }
   ],
   "source": [
    "df.head(10)"
   ]
  },
  {
   "cell_type": "code",
   "execution_count": 11,
   "id": "5ebb913a",
   "metadata": {
    "execution": {
     "iopub.execute_input": "2024-01-18T17:26:00.116636Z",
     "iopub.status.busy": "2024-01-18T17:26:00.116208Z",
     "iopub.status.idle": "2024-01-18T17:26:05.985524Z",
     "shell.execute_reply": "2024-01-18T17:26:05.984257Z"
    },
    "papermill": {
     "duration": 5.884465,
     "end_time": "2024-01-18T17:26:05.988310",
     "exception": false,
     "start_time": "2024-01-18T17:26:00.103845",
     "status": "completed"
    },
    "tags": []
   },
   "outputs": [
    {
     "ename": "ModuleNotFoundError",
     "evalue": "No module named 'spacy'",
     "output_type": "error",
     "traceback": [
      "\u001b[1;31m---------------------------------------------------------------------------\u001b[0m",
      "\u001b[1;31mModuleNotFoundError\u001b[0m                       Traceback (most recent call last)",
      "\u001b[1;32m~\\AppData\\Local\\Temp\\ipykernel_14548\\572880994.py\u001b[0m in \u001b[0;36m<module>\u001b[1;34m\u001b[0m\n\u001b[1;32m----> 1\u001b[1;33m \u001b[1;32mimport\u001b[0m \u001b[0mspacy\u001b[0m\u001b[1;33m\u001b[0m\u001b[1;33m\u001b[0m\u001b[0m\n\u001b[0m",
      "\u001b[1;31mModuleNotFoundError\u001b[0m: No module named 'spacy'"
     ]
    }
   ],
   "source": [
    "import spacy"
   ]
  },
  {
   "cell_type": "code",
   "execution_count": 9,
   "id": "2997914d",
   "metadata": {
    "execution": {
     "iopub.execute_input": "2024-01-18T17:26:06.013281Z",
     "iopub.status.busy": "2024-01-18T17:26:06.011869Z",
     "iopub.status.idle": "2024-01-18T17:26:11.901170Z",
     "shell.execute_reply": "2024-01-18T17:26:11.899837Z"
    },
    "papermill": {
     "duration": 5.904573,
     "end_time": "2024-01-18T17:26:11.904038",
     "exception": false,
     "start_time": "2024-01-18T17:26:05.999465",
     "status": "completed"
    },
    "tags": []
   },
   "outputs": [],
   "source": [
    "nlp = spacy.load('en_core_web_lg')"
   ]
  },
  {
   "cell_type": "code",
   "execution_count": 10,
   "id": "e28b5624",
   "metadata": {
    "execution": {
     "iopub.execute_input": "2024-01-18T17:26:11.928960Z",
     "iopub.status.busy": "2024-01-18T17:26:11.928544Z",
     "iopub.status.idle": "2024-01-18T17:26:11.934823Z",
     "shell.execute_reply": "2024-01-18T17:26:11.933794Z"
    },
    "papermill": {
     "duration": 0.021311,
     "end_time": "2024-01-18T17:26:11.937114",
     "exception": false,
     "start_time": "2024-01-18T17:26:11.915803",
     "status": "completed"
    },
    "tags": []
   },
   "outputs": [],
   "source": [
    "def remove_stop(text):\n",
    "    doc = nlp(text)\n",
    "    filtered_doc = []\n",
    "    for tokens in doc:\n",
    "        if tokens.is_stop or tokens.is_oov:\n",
    "            continue\n",
    "        filtered_doc.append(tokens.lemma_)\n",
    "        \n",
    "    return ' '.join(filtered_doc)\n",
    "\n",
    "            "
   ]
  },
  {
   "cell_type": "code",
   "execution_count": 11,
   "id": "d5c45f9d",
   "metadata": {
    "execution": {
     "iopub.execute_input": "2024-01-18T17:26:11.962175Z",
     "iopub.status.busy": "2024-01-18T17:26:11.961755Z",
     "iopub.status.idle": "2024-01-18T17:32:10.245316Z",
     "shell.execute_reply": "2024-01-18T17:32:10.243860Z"
    },
    "papermill": {
     "duration": 358.300451,
     "end_time": "2024-01-18T17:32:10.248629",
     "exception": false,
     "start_time": "2024-01-18T17:26:11.948178",
     "status": "completed"
    },
    "tags": []
   },
   "outputs": [],
   "source": [
    "df.MESSAGE = df.MESSAGE.apply(remove_stop)"
   ]
  },
  {
   "cell_type": "markdown",
   "id": "844e19c1",
   "metadata": {
    "papermill": {
     "duration": 0.011453,
     "end_time": "2024-01-18T17:32:10.272109",
     "exception": false,
     "start_time": "2024-01-18T17:32:10.260656",
     "status": "completed"
    },
    "tags": []
   },
   "source": [
    "## DATA PREPROCESSING"
   ]
  },
  {
   "cell_type": "code",
   "execution_count": 12,
   "id": "34439305",
   "metadata": {
    "execution": {
     "iopub.execute_input": "2024-01-18T17:32:10.296332Z",
     "iopub.status.busy": "2024-01-18T17:32:10.295803Z",
     "iopub.status.idle": "2024-01-18T17:32:10.301269Z",
     "shell.execute_reply": "2024-01-18T17:32:10.300214Z"
    },
    "papermill": {
     "duration": 0.020456,
     "end_time": "2024-01-18T17:32:10.303706",
     "exception": false,
     "start_time": "2024-01-18T17:32:10.283250",
     "status": "completed"
    },
    "tags": []
   },
   "outputs": [],
   "source": [
    "from keras.preprocessing.text import Tokenizer\n",
    "from keras.preprocessing.sequence import pad_sequences\n",
    "tokenizer = Tokenizer()"
   ]
  },
  {
   "cell_type": "code",
   "execution_count": 13,
   "id": "8a7ebb59",
   "metadata": {
    "execution": {
     "iopub.execute_input": "2024-01-18T17:32:10.329101Z",
     "iopub.status.busy": "2024-01-18T17:32:10.328437Z",
     "iopub.status.idle": "2024-01-18T17:32:10.333469Z",
     "shell.execute_reply": "2024-01-18T17:32:10.332325Z"
    },
    "papermill": {
     "duration": 0.020489,
     "end_time": "2024-01-18T17:32:10.335824",
     "exception": false,
     "start_time": "2024-01-18T17:32:10.315335",
     "status": "completed"
    },
    "tags": []
   },
   "outputs": [],
   "source": [
    "msg = df.MESSAGE.values.tolist()"
   ]
  },
  {
   "cell_type": "code",
   "execution_count": 14,
   "id": "52d80b8c",
   "metadata": {
    "execution": {
     "iopub.execute_input": "2024-01-18T17:32:10.360171Z",
     "iopub.status.busy": "2024-01-18T17:32:10.359664Z",
     "iopub.status.idle": "2024-01-18T17:32:11.298274Z",
     "shell.execute_reply": "2024-01-18T17:32:11.296853Z"
    },
    "papermill": {
     "duration": 0.954335,
     "end_time": "2024-01-18T17:32:11.301311",
     "exception": false,
     "start_time": "2024-01-18T17:32:10.346976",
     "status": "completed"
    },
    "tags": []
   },
   "outputs": [],
   "source": [
    "tokenizer.fit_on_texts(msg)"
   ]
  },
  {
   "cell_type": "code",
   "execution_count": 15,
   "id": "0593183e",
   "metadata": {
    "execution": {
     "iopub.execute_input": "2024-01-18T17:32:11.326159Z",
     "iopub.status.busy": "2024-01-18T17:32:11.325597Z",
     "iopub.status.idle": "2024-01-18T17:32:11.333153Z",
     "shell.execute_reply": "2024-01-18T17:32:11.332022Z"
    },
    "papermill": {
     "duration": 0.022795,
     "end_time": "2024-01-18T17:32:11.335491",
     "exception": false,
     "start_time": "2024-01-18T17:32:11.312696",
     "status": "completed"
    },
    "tags": []
   },
   "outputs": [
    {
     "data": {
      "text/plain": [
       "24538"
      ]
     },
     "execution_count": 15,
     "metadata": {},
     "output_type": "execute_result"
    }
   ],
   "source": [
    "len(tokenizer.word_index)"
   ]
  },
  {
   "cell_type": "code",
   "execution_count": 16,
   "id": "5eac4cbc",
   "metadata": {
    "execution": {
     "iopub.execute_input": "2024-01-18T17:32:11.361142Z",
     "iopub.status.busy": "2024-01-18T17:32:11.360646Z",
     "iopub.status.idle": "2024-01-18T17:32:11.990935Z",
     "shell.execute_reply": "2024-01-18T17:32:11.989384Z"
    },
    "papermill": {
     "duration": 0.646344,
     "end_time": "2024-01-18T17:32:11.993902",
     "exception": false,
     "start_time": "2024-01-18T17:32:11.347558",
     "status": "completed"
    },
    "tags": []
   },
   "outputs": [],
   "source": [
    "input_text = tokenizer.texts_to_sequences(msg)"
   ]
  },
  {
   "cell_type": "code",
   "execution_count": 17,
   "id": "6620a5fe",
   "metadata": {
    "execution": {
     "iopub.execute_input": "2024-01-18T17:32:12.098715Z",
     "iopub.status.busy": "2024-01-18T17:32:12.098288Z",
     "iopub.status.idle": "2024-01-18T17:32:12.106811Z",
     "shell.execute_reply": "2024-01-18T17:32:12.105846Z"
    },
    "papermill": {
     "duration": 0.101595,
     "end_time": "2024-01-18T17:32:12.109007",
     "exception": false,
     "start_time": "2024-01-18T17:32:12.007412",
     "status": "completed"
    },
    "tags": []
   },
   "outputs": [
    {
     "data": {
      "text/plain": [
       "7719"
      ]
     },
     "execution_count": 17,
     "metadata": {},
     "output_type": "execute_result"
    }
   ],
   "source": [
    "max_length = max(len(x) for x in input_text)\n",
    "max_length"
   ]
  },
  {
   "cell_type": "code",
   "execution_count": 18,
   "id": "493d6307",
   "metadata": {
    "execution": {
     "iopub.execute_input": "2024-01-18T17:32:12.135464Z",
     "iopub.status.busy": "2024-01-18T17:32:12.134965Z",
     "iopub.status.idle": "2024-01-18T17:32:12.296462Z",
     "shell.execute_reply": "2024-01-18T17:32:12.294749Z"
    },
    "papermill": {
     "duration": 0.178309,
     "end_time": "2024-01-18T17:32:12.299411",
     "exception": false,
     "start_time": "2024-01-18T17:32:12.121102",
     "status": "completed"
    },
    "tags": []
   },
   "outputs": [],
   "source": [
    "padded_input = pad_sequences(input_text,maxlen=max_length,padding='post')"
   ]
  },
  {
   "cell_type": "code",
   "execution_count": 19,
   "id": "49468cad",
   "metadata": {
    "execution": {
     "iopub.execute_input": "2024-01-18T17:32:12.325535Z",
     "iopub.status.busy": "2024-01-18T17:32:12.325091Z",
     "iopub.status.idle": "2024-01-18T17:32:12.331203Z",
     "shell.execute_reply": "2024-01-18T17:32:12.330343Z"
    },
    "papermill": {
     "duration": 0.022187,
     "end_time": "2024-01-18T17:32:12.333882",
     "exception": false,
     "start_time": "2024-01-18T17:32:12.311695",
     "status": "completed"
    },
    "tags": []
   },
   "outputs": [
    {
     "data": {
      "text/plain": [
       "(5796, 7719)"
      ]
     },
     "execution_count": 19,
     "metadata": {},
     "output_type": "execute_result"
    }
   ],
   "source": [
    "padded_input.shape"
   ]
  },
  {
   "cell_type": "code",
   "execution_count": 20,
   "id": "37f5660e",
   "metadata": {
    "execution": {
     "iopub.execute_input": "2024-01-18T17:32:12.360395Z",
     "iopub.status.busy": "2024-01-18T17:32:12.359916Z",
     "iopub.status.idle": "2024-01-18T17:32:12.367086Z",
     "shell.execute_reply": "2024-01-18T17:32:12.366140Z"
    },
    "papermill": {
     "duration": 0.023261,
     "end_time": "2024-01-18T17:32:12.369340",
     "exception": false,
     "start_time": "2024-01-18T17:32:12.346079",
     "status": "completed"
    },
    "tags": []
   },
   "outputs": [
    {
     "data": {
      "text/plain": [
       "(5796,)"
      ]
     },
     "execution_count": 20,
     "metadata": {},
     "output_type": "execute_result"
    }
   ],
   "source": [
    "y = df.CATEGORY\n",
    "y.shape"
   ]
  },
  {
   "cell_type": "code",
   "execution_count": 21,
   "id": "8f5385be",
   "metadata": {
    "execution": {
     "iopub.execute_input": "2024-01-18T17:32:12.395934Z",
     "iopub.status.busy": "2024-01-18T17:32:12.395495Z",
     "iopub.status.idle": "2024-01-18T17:32:13.616989Z",
     "shell.execute_reply": "2024-01-18T17:32:13.615599Z"
    },
    "papermill": {
     "duration": 1.238203,
     "end_time": "2024-01-18T17:32:13.619969",
     "exception": false,
     "start_time": "2024-01-18T17:32:12.381766",
     "status": "completed"
    },
    "tags": []
   },
   "outputs": [],
   "source": [
    "from sklearn.model_selection import train_test_split\n",
    "X_train,X_test,y_train,y_test = train_test_split(padded_input,y,train_size = 0.7,random_state=40)"
   ]
  },
  {
   "cell_type": "markdown",
   "id": "f279233b",
   "metadata": {
    "papermill": {
     "duration": 0.012643,
     "end_time": "2024-01-18T17:32:13.645468",
     "exception": false,
     "start_time": "2024-01-18T17:32:13.632825",
     "status": "completed"
    },
    "tags": []
   },
   "source": [
    "# MODEL TRAINING"
   ]
  },
  {
   "cell_type": "code",
   "execution_count": 22,
   "id": "9b53e3bf",
   "metadata": {
    "execution": {
     "iopub.execute_input": "2024-01-18T17:32:13.673061Z",
     "iopub.status.busy": "2024-01-18T17:32:13.672605Z",
     "iopub.status.idle": "2024-01-18T17:32:14.028408Z",
     "shell.execute_reply": "2024-01-18T17:32:14.027268Z"
    },
    "papermill": {
     "duration": 0.373236,
     "end_time": "2024-01-18T17:32:14.031647",
     "exception": false,
     "start_time": "2024-01-18T17:32:13.658411",
     "status": "completed"
    },
    "tags": []
   },
   "outputs": [],
   "source": [
    "model = keras.Sequential([\n",
    "    keras.layers.Embedding(len(tokenizer.word_index)+1,output_dim=50,input_length=max_length),\n",
    "    keras.layers.Flatten(),\n",
    "    keras.layers.Dense(1,activation='sigmoid')\n",
    "])"
   ]
  },
  {
   "cell_type": "code",
   "execution_count": 23,
   "id": "9cac8f35",
   "metadata": {
    "execution": {
     "iopub.execute_input": "2024-01-18T17:32:14.060208Z",
     "iopub.status.busy": "2024-01-18T17:32:14.059745Z",
     "iopub.status.idle": "2024-01-18T17:32:14.083841Z",
     "shell.execute_reply": "2024-01-18T17:32:14.082410Z"
    },
    "papermill": {
     "duration": 0.046603,
     "end_time": "2024-01-18T17:32:14.091642",
     "exception": false,
     "start_time": "2024-01-18T17:32:14.045039",
     "status": "completed"
    },
    "tags": []
   },
   "outputs": [
    {
     "name": "stdout",
     "output_type": "stream",
     "text": [
      "Model: \"sequential\"\n",
      "_________________________________________________________________\n",
      " Layer (type)                Output Shape              Param #   \n",
      "=================================================================\n",
      " embedding (Embedding)       (None, 7719, 50)          1226950   \n",
      "                                                                 \n",
      " flatten (Flatten)           (None, 385950)            0         \n",
      "                                                                 \n",
      " dense (Dense)               (None, 1)                 385951    \n",
      "                                                                 \n",
      "=================================================================\n",
      "Total params: 1612901 (6.15 MB)\n",
      "Trainable params: 1612901 (6.15 MB)\n",
      "Non-trainable params: 0 (0.00 Byte)\n",
      "_________________________________________________________________\n"
     ]
    }
   ],
   "source": [
    "model.summary()"
   ]
  },
  {
   "cell_type": "code",
   "execution_count": 24,
   "id": "f83c5c72",
   "metadata": {
    "execution": {
     "iopub.execute_input": "2024-01-18T17:32:14.123374Z",
     "iopub.status.busy": "2024-01-18T17:32:14.122904Z",
     "iopub.status.idle": "2024-01-18T17:32:14.145484Z",
     "shell.execute_reply": "2024-01-18T17:32:14.144337Z"
    },
    "papermill": {
     "duration": 0.042077,
     "end_time": "2024-01-18T17:32:14.148446",
     "exception": false,
     "start_time": "2024-01-18T17:32:14.106369",
     "status": "completed"
    },
    "tags": []
   },
   "outputs": [],
   "source": [
    "model.compile(optimizer='adam',loss='binary_crossentropy',metrics=['accuracy'])"
   ]
  },
  {
   "cell_type": "code",
   "execution_count": 25,
   "id": "ec2f381f",
   "metadata": {
    "execution": {
     "iopub.execute_input": "2024-01-18T17:32:14.179753Z",
     "iopub.status.busy": "2024-01-18T17:32:14.179139Z",
     "iopub.status.idle": "2024-01-18T17:33:14.214720Z",
     "shell.execute_reply": "2024-01-18T17:33:14.213648Z"
    },
    "papermill": {
     "duration": 60.05459,
     "end_time": "2024-01-18T17:33:14.217455",
     "exception": false,
     "start_time": "2024-01-18T17:32:14.162865",
     "status": "completed"
    },
    "tags": []
   },
   "outputs": [
    {
     "name": "stdout",
     "output_type": "stream",
     "text": [
      "Epoch 1/5\n",
      "127/127 [==============================] - 12s 90ms/step - loss: 0.4917 - accuracy: 0.7932\n",
      "Epoch 2/5\n",
      "127/127 [==============================] - 12s 95ms/step - loss: 0.0580 - accuracy: 0.9867\n",
      "Epoch 3/5\n",
      "127/127 [==============================] - 12s 94ms/step - loss: 0.0220 - accuracy: 0.9958\n",
      "Epoch 4/5\n",
      "127/127 [==============================] - 12s 92ms/step - loss: 0.0122 - accuracy: 0.9990\n",
      "Epoch 5/5\n",
      "127/127 [==============================] - 12s 92ms/step - loss: 0.0079 - accuracy: 0.9995\n"
     ]
    },
    {
     "data": {
      "text/plain": [
       "<keras.src.callbacks.History at 0x78cc5d06c6d0>"
      ]
     },
     "execution_count": 25,
     "metadata": {},
     "output_type": "execute_result"
    }
   ],
   "source": [
    "model.fit(X_train,y_train , epochs=5)"
   ]
  },
  {
   "cell_type": "code",
   "execution_count": 26,
   "id": "a067142d",
   "metadata": {
    "execution": {
     "iopub.execute_input": "2024-01-18T17:33:14.372367Z",
     "iopub.status.busy": "2024-01-18T17:33:14.371797Z",
     "iopub.status.idle": "2024-01-18T17:33:17.242275Z",
     "shell.execute_reply": "2024-01-18T17:33:17.240970Z"
    },
    "papermill": {
     "duration": 2.951026,
     "end_time": "2024-01-18T17:33:17.245194",
     "exception": false,
     "start_time": "2024-01-18T17:33:14.294168",
     "status": "completed"
    },
    "tags": []
   },
   "outputs": [
    {
     "name": "stdout",
     "output_type": "stream",
     "text": [
      "55/55 [==============================] - 2s 29ms/step - loss: 0.0321 - accuracy: 0.9902\n"
     ]
    },
    {
     "data": {
      "text/plain": [
       "[0.032118137925863266, 0.9902242422103882]"
      ]
     },
     "execution_count": 26,
     "metadata": {},
     "output_type": "execute_result"
    }
   ],
   "source": [
    "model.evaluate(X_test,y_test)"
   ]
  },
  {
   "cell_type": "markdown",
   "id": "191432ce",
   "metadata": {
    "papermill": {
     "duration": 0.078816,
     "end_time": "2024-01-18T17:33:17.403903",
     "exception": false,
     "start_time": "2024-01-18T17:33:17.325087",
     "status": "completed"
    },
    "tags": []
   },
   "source": [
    "# PREDICTION"
   ]
  },
  {
   "cell_type": "code",
   "execution_count": 27,
   "id": "3025a187",
   "metadata": {
    "execution": {
     "iopub.execute_input": "2024-01-18T17:33:17.562773Z",
     "iopub.status.busy": "2024-01-18T17:33:17.562307Z",
     "iopub.status.idle": "2024-01-18T17:33:17.569390Z",
     "shell.execute_reply": "2024-01-18T17:33:17.568076Z"
    },
    "papermill": {
     "duration": 0.089066,
     "end_time": "2024-01-18T17:33:17.571669",
     "exception": false,
     "start_time": "2024-01-18T17:33:17.482603",
     "status": "completed"
    },
    "tags": []
   },
   "outputs": [],
   "source": [
    "def pred(text):\n",
    "    input_text = tokenizer.texts_to_sequences([text])\n",
    "    padded_input = pad_sequences(input_text,maxlen=max_length,padding='post')\n",
    "    x = int(np.round(model.predict(padded_input)[0]))\n",
    "    if x==0:\n",
    "        print(\"Not Spam\")\n",
    "    else:\n",
    "        print(\"Spam\")"
   ]
  },
  {
   "cell_type": "code",
   "execution_count": 28,
   "id": "daafbddb",
   "metadata": {
    "execution": {
     "iopub.execute_input": "2024-01-18T17:33:17.731278Z",
     "iopub.status.busy": "2024-01-18T17:33:17.730818Z",
     "iopub.status.idle": "2024-01-18T17:33:17.915226Z",
     "shell.execute_reply": "2024-01-18T17:33:17.914036Z"
    },
    "papermill": {
     "duration": 0.267306,
     "end_time": "2024-01-18T17:33:17.918074",
     "exception": false,
     "start_time": "2024-01-18T17:33:17.650768",
     "status": "completed"
    },
    "tags": []
   },
   "outputs": [
    {
     "name": "stdout",
     "output_type": "stream",
     "text": [
      "1/1 [==============================] - 0s 102ms/step\n",
      "Spam\n"
     ]
    }
   ],
   "source": [
    "text = \"free offer only for you\" \n",
    "pred(text)"
   ]
  },
  {
   "cell_type": "code",
   "execution_count": 29,
   "id": "d03cabb0",
   "metadata": {
    "execution": {
     "iopub.execute_input": "2024-01-18T17:33:18.080600Z",
     "iopub.status.busy": "2024-01-18T17:33:18.080161Z",
     "iopub.status.idle": "2024-01-18T17:33:18.156611Z",
     "shell.execute_reply": "2024-01-18T17:33:18.155340Z"
    },
    "papermill": {
     "duration": 0.16212,
     "end_time": "2024-01-18T17:33:18.158982",
     "exception": false,
     "start_time": "2024-01-18T17:33:17.996862",
     "status": "completed"
    },
    "tags": []
   },
   "outputs": [
    {
     "name": "stdout",
     "output_type": "stream",
     "text": [
      "1/1 [==============================] - 0s 23ms/step\n",
      "Not Spam\n"
     ]
    }
   ],
   "source": [
    "text = \"we are going to watch the cricket match,are you coming or not , please tell us fast we are getting late\" \n",
    "pred(text)"
   ]
  },
  {
   "cell_type": "code",
   "execution_count": null,
   "id": "633bc121",
   "metadata": {
    "papermill": {
     "duration": 0.078032,
     "end_time": "2024-01-18T17:33:18.315640",
     "exception": false,
     "start_time": "2024-01-18T17:33:18.237608",
     "status": "completed"
    },
    "tags": []
   },
   "outputs": [],
   "source": []
  }
 ],
 "metadata": {
  "kaggle": {
   "accelerator": "none",
   "dataSources": [
    {
     "datasetId": 1199979,
     "sourceId": 2005577,
     "sourceType": "datasetVersion"
    }
   ],
   "dockerImageVersionId": 30635,
   "isGpuEnabled": false,
   "isInternetEnabled": true,
   "language": "python",
   "sourceType": "notebook"
  },
  "kernelspec": {
   "display_name": "Python 3 (ipykernel)",
   "language": "python",
   "name": "python3"
  },
  "language_info": {
   "codemirror_mode": {
    "name": "ipython",
    "version": 3
   },
   "file_extension": ".py",
   "mimetype": "text/x-python",
   "name": "python",
   "nbconvert_exporter": "python",
   "pygments_lexer": "ipython3",
   "version": "3.9.13"
  },
  "papermill": {
   "default_parameters": {},
   "duration": 464.871111,
   "end_time": "2024-01-18T17:33:21.141934",
   "environment_variables": {},
   "exception": null,
   "input_path": "__notebook__.ipynb",
   "output_path": "__notebook__.ipynb",
   "parameters": {},
   "start_time": "2024-01-18T17:25:36.270823",
   "version": "2.4.0"
  }
 },
 "nbformat": 4,
 "nbformat_minor": 5
}
