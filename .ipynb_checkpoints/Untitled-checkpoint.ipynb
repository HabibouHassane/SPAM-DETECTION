{
 "cells": [
  {
   "cell_type": "code",
   "execution_count": 1,
   "id": "3ca0f5d5",
   "metadata": {},
   "outputs": [],
   "source": [
    "#!pip install --user protobuf==3.20"
   ]
  },
  {
   "cell_type": "code",
   "execution_count": 2,
   "id": "b0a82914",
   "metadata": {},
   "outputs": [],
   "source": [
    "import os\n",
    "from flask import Flask, jsonify, request\n",
    "#from tensorflow.keras.models import load_model\n",
    "from tensorflow import keras\n",
    "from keras.layers import Dense\n",
    "from keras.models import Sequential, load_model\n",
    "from tensorflow.keras.preprocessing.sequence import pad_sequences\n",
    "from keras.preprocessing.text import Tokenizer\n",
    "import numpy as np\n",
    "import pandas as pd"
   ]
  },
  {
   "cell_type": "code",
   "execution_count": 3,
   "id": "deb474d5",
   "metadata": {},
   "outputs": [],
   "source": [
    "df = pd.read_csv(\"df_clean.csv\")\n",
    "tokenizer = Tokenizer()\n",
    "msg = df.MESSAGE.values.tolist()\n",
    "for i in range(len(msg)):\n",
    "    if isinstance(msg[i], float):\n",
    "        msg[i] = \"null\"\n",
    "tokenizer.fit_on_texts(msg)\n",
    "#input_text = tokenizer.texts_to_sequences(msg)\n",
    "max_length = 7719\n",
    "#padded_input = pad_sequences(input_text,maxlen=max_length,padding='post')"
   ]
  },
  {
   "cell_type": "code",
   "execution_count": 4,
   "id": "0e1dc026",
   "metadata": {},
   "outputs": [],
   "source": [
    "#for i in range(len(msg)):\n",
    " #   if isinstance(msg[i], float):\n",
    "  #      msg[i] = \"null\""
   ]
  },
  {
   "cell_type": "code",
   "execution_count": null,
   "id": "ef2cc375",
   "metadata": {},
   "outputs": [
    {
     "name": "stdout",
     "output_type": "stream",
     "text": [
      " * Serving Flask app \"__main__\" (lazy loading)\n",
      " * Environment: production\n",
      "\u001b[31m   WARNING: This is a development server. Do not use it in a production deployment.\u001b[0m\n",
      "\u001b[2m   Use a production WSGI server instead.\u001b[0m\n",
      " * Debug mode: off\n"
     ]
    },
    {
     "name": "stderr",
     "output_type": "stream",
     "text": [
      " * Running on all addresses.\n",
      "   WARNING: This is a development server. Do not use it in a production deployment.\n",
      " * Running on http://192.168.0.13:8080/ (Press CTRL+C to quit)\n"
     ]
    }
   ],
   "source": [
    "app = Flask(__name__)\n",
    "\n",
    "\n",
    "\n",
    "@app.route(\"/\", methods = [\"GET\"])\n",
    "def hello():\n",
    "    return jsonify({\"hello\":\"nasser\"})\n",
    "\n",
    "\n",
    "@app.before_first_request\n",
    "def load():\n",
    "    model_path = \"my_model.h5\"\n",
    "    model = load_model(model_path, compile=False)\n",
    "    return model\n",
    "\n",
    "# Chargement du model\n",
    "model = load()\n",
    "\n",
    "\n",
    "def preprocess(text):\n",
    "    input_text = tokenizer.texts_to_sequences([text])\n",
    "    padded_input = pad_sequences(input_text,maxlen=max_length,padding='post')\n",
    "    return padded_input\n",
    "\n",
    "\n",
    "@app.route(\"/predict\", methods=[\"POST\"])\n",
    "def predict():\n",
    "    # recuperer l'image\n",
    "    texte = request.texte_json['texte']\n",
    "    \n",
    "\n",
    "    # Ouvrir l'image\n",
    "    #img = Image.open(io.BytesIO(image))\n",
    "\n",
    "    #traitement de l'image\n",
    "    texte = preprocess(texte)\n",
    "\n",
    "    # predictions\n",
    "    x = int(np.round(model.predict(texte)[0]))\n",
    "    if x==0:\n",
    "        pred = \"Not Spam\"\n",
    "    else:\n",
    "        pred = \"Spam\"\n",
    "    \n",
    "\n",
    "    #rec = pred[0][0].tolist()\n",
    "\n",
    "    return jsonify({\"predictions\" : pred})\n",
    "\n",
    "if __name__ == \"__main__\":\n",
    "    app.run(host = \"0.0.0.0\", port = 8080)"
   ]
  },
  {
   "cell_type": "code",
   "execution_count": null,
   "id": "b40ecd80",
   "metadata": {},
   "outputs": [],
   "source": [
    "file = request.files['file']\n",
    "    image = file.read()\n",
    "\n",
    "    # Ouvrir l'image\n",
    "    img = Image.open(io.BytesIO(image))\n",
    "\n",
    "    #traitement de l'image\n",
    "    img_processed = preprocess(img)\n",
    "\n",
    "    # predictions\n",
    "    pred = model.predict(img_processed)\n",
    "\n",
    "    rec = pred[0][0].tolist()\n",
    "\n",
    "    return jsonify({\"predictions\" : rec})\n"
   ]
  }
 ],
 "metadata": {
  "kernelspec": {
   "display_name": "Python 3 (ipykernel)",
   "language": "python",
   "name": "python3"
  },
  "language_info": {
   "codemirror_mode": {
    "name": "ipython",
    "version": 3
   },
   "file_extension": ".py",
   "mimetype": "text/x-python",
   "name": "python",
   "nbconvert_exporter": "python",
   "pygments_lexer": "ipython3",
   "version": "3.9.13"
  }
 },
 "nbformat": 4,
 "nbformat_minor": 5
}
