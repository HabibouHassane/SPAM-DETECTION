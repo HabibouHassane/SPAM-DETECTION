{
 "cells": [
  {
   "cell_type": "code",
   "execution_count": 1,
   "id": "c46f5efc",
   "metadata": {},
   "outputs": [],
   "source": [
    "import streamlit as st\n",
    "from PIL import Image\n",
    "import requests"
   ]
  },
  {
   "cell_type": "code",
   "execution_count": 2,
   "id": "52185ae0",
   "metadata": {},
   "outputs": [],
   "source": [
    "#!pip install streamlit==1.24.0 "
   ]
  },
  {
   "cell_type": "code",
   "execution_count": 3,
   "id": "d303f247",
   "metadata": {},
   "outputs": [],
   "source": [
    "#!pip show streamlit"
   ]
  },
  {
   "cell_type": "code",
   "execution_count": 5,
   "id": "9811c3d9",
   "metadata": {},
   "outputs": [
    {
     "name": "stdout",
     "output_type": "stream",
     "text": [
      "^C\n"
     ]
    }
   ],
   "source": [
    "!streamlit run frontend.py"
   ]
  },
  {
   "cell_type": "code",
   "execution_count": null,
   "id": "0f21aba6",
   "metadata": {},
   "outputs": [],
   "source": []
  },
  {
   "cell_type": "code",
   "execution_count": null,
   "id": "4f98a92d",
   "metadata": {},
   "outputs": [],
   "source": []
  }
 ],
 "metadata": {
  "kernelspec": {
   "display_name": "Python 3 (ipykernel)",
   "language": "python",
   "name": "python3"
  },
  "language_info": {
   "codemirror_mode": {
    "name": "ipython",
    "version": 3
   },
   "file_extension": ".py",
   "mimetype": "text/x-python",
   "name": "python",
   "nbconvert_exporter": "python",
   "pygments_lexer": "ipython3",
   "version": "3.9.13"
  }
 },
 "nbformat": 4,
 "nbformat_minor": 5
}
